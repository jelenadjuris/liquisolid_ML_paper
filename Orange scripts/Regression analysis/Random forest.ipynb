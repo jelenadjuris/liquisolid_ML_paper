{
 "cells": [
  {
   "cell_type": "code",
   "execution_count": null,
   "id": "31c40fb9",
   "metadata": {},
   "outputs": [],
   "source": [
    "import Orange\n",
    "from Orange.evaluation import LeaveOneOut, TestOnTrainingData, R2, MAE, MSE\n",
    "from Orange.regression import RandomForestRegressionLearner"
   ]
  },
  {
   "cell_type": "code",
   "execution_count": null,
   "id": "d01794f7",
   "metadata": {},
   "outputs": [],
   "source": [
    "# Loading the data (in_data) and model (in_learner)\n",
    "data=in_data\n",
    "RFR=in_learner"
   ]
  },
  {
   "cell_type": "code",
   "execution_count": null,
   "id": "c48d780d",
   "metadata": {},
   "outputs": [],
   "source": [
    "# Calculation of Leave One Out Cross-Validation test data metric\n",
    "results_LeaveOneOut = Orange.evaluation.LeaveOneOut(data, learners = [RFR])\n",
    "r2_LeaveOneOut = R2(results_LeaveOneOut)\n",
    "MAE_LeaveOneOut = MAE(results_LeaveOneOut)\n",
    "MSE_LeaveOneOut = MSE(results_LeaveOneOut)\n",
    "RMSE_LeaveOneOut = MSE_LeaveOneOut**0.5"
   ]
  },
  {
   "cell_type": "code",
   "execution_count": null,
   "id": "2bced8ab",
   "metadata": {},
   "outputs": [],
   "source": [
    "# Training data metrics\n",
    "results_TestOnTrainingData = Orange.evaluation.TestOnTrainingData(data, learners = [RFR])\n",
    "r2_TestOnTrainingData = R2(results_TestOnTrainingData)\n",
    "MAE_TestOnTrainingData = MAE(results_TestOnTrainingData)\n",
    "MSE_TestOnTrainingData = MSE(results_TestOnTrainingData)\n",
    "RMSE_TestOnTrainingData = MSE_TestOnTrainingData**0.5"
   ]
  },
  {
   "cell_type": "code",
   "execution_count": null,
   "id": "1834c7c6",
   "metadata": {},
   "outputs": [],
   "source": [
    "# Training data metrics\n",
    "print(\"R-Squared LeaveOneOut (for test data): \", r2_LeaveOneOut)\n",
    "print(\"MAE LeaveOneOut (for test data): \", MAE_LeaveOneOut)\n",
    "print(\"MSE LeaveOneOut (for test data): \", MSE_LeaveOneOut)\n",
    "print(\"RMSE LeaveOneOut (for test data): \", RMSE_LeaveOneOut)\n",
    "print(\"R-Squared TestOnTrainingData: \", r2_TestOnTrainingData)\n",
    "print(\"MAE TestOnTrainingData: \", MAE_TestOnTrainingData)\n",
    "print(\"MSE TestOnTrainingData: \", MSE_TestOnTrainingData)\n",
    "print(\"MSE TestOnTrainingData: \", RMSE_TestOnTrainingData)"
   ]
  }
 ],
 "metadata": {
  "kernelspec": {
   "display_name": "Python 3 (ipykernel)",
   "language": "python",
   "name": "python3"
  },
  "language_info": {
   "codemirror_mode": {
    "name": "ipython",
    "version": 3
   },
   "file_extension": ".py",
   "mimetype": "text/x-python",
   "name": "python",
   "nbconvert_exporter": "python",
   "pygments_lexer": "ipython3",
   "version": "3.9.7"
  }
 },
 "nbformat": 4,
 "nbformat_minor": 5
}

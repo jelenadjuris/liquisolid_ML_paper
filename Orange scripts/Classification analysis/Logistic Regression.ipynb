{
 "cells": [
  {
   "cell_type": "code",
   "execution_count": null,
   "id": "0c875714",
   "metadata": {},
   "outputs": [],
   "source": [
    "import Orange\n",
    "from Orange.evaluation import LeaveOneOut, TestOnTrainingData, AUC, CA, Precision, Recall"
   ]
  },
  {
   "cell_type": "code",
   "execution_count": null,
   "id": "280da5fc",
   "metadata": {},
   "outputs": [],
   "source": [
    "# Loading the data (in_data) and model (in_learner)\n",
    "data=in_data\n",
    "LRegression=in_learner"
   ]
  },
  {
   "cell_type": "code",
   "execution_count": null,
   "id": "d5df190b",
   "metadata": {},
   "outputs": [],
   "source": [
    "# Calculation of Leave One Out Cross-Validation test data metric\n",
    "results_LeaveOneOut = Orange.evaluation.LeaveOneOut(data, learners = [LRegression])\n",
    "AUC_LeaveOneOut = AUC(results_LeaveOneOut, average='weighted')\n",
    "CA_LeaveOneOut = CA(results_LeaveOneOut)\n",
    "Precision_LeaveOneOut = Precision(results_LeaveOneOut, average='weighted')\n",
    "Recall_LeaveOneOut = Recall(results_LeaveOneOut, average='weighted')"
   ]
  },
  {
   "cell_type": "code",
   "execution_count": null,
   "id": "18bb90e6",
   "metadata": {},
   "outputs": [],
   "source": [
    "# Training data metrics\n",
    "results_TestOnTrainingData = Orange.evaluation.TestOnTrainingData(data, learners = [LRegression])\n",
    "AUC_TestOnTrainingData = AUC(results_TestOnTrainingData, average='weighted')\n",
    "CA_TestOnTrainingData = CA(results_TestOnTrainingData)\n",
    "Precision_TestOnTrainingData = Precision(results_TestOnTrainingData, average='weighted')\n",
    "Recall_TestOnTrainingData = Recall(results_TestOnTrainingData, average='weighted')"
   ]
  },
  {
   "cell_type": "code",
   "execution_count": null,
   "id": "1c01e1f7",
   "metadata": {},
   "outputs": [],
   "source": [
    "# Printout of results\n",
    "print(\"AUC LeaveOneOut (for test data): \", AUC_LeaveOneOut)\n",
    "print(\"CA LeaveOneOut (for test data): \", CA_LeaveOneOut)\n",
    "print(\"Precision LeaveOneOut (for test data): \", Precision_LeaveOneOut)\n",
    "print(\"Recall LeaveOneOut (for test data): \", AUC_LeaveOneOut)\n",
    "print(\"AUC TestOnTrainingData: \", AUC_TestOnTrainingData)\n",
    "print(\"CA TestOnTrainingData: \", CA_TestOnTrainingData)\n",
    "print(\"Precision TestOnTrainingData: \", Precision_TestOnTrainingData)\n",
    "print(\"Recall TestOnTrainingData: \", Recall_TestOnTrainingData)"
   ]
  }
 ],
 "metadata": {
  "kernelspec": {
   "display_name": "Python 3 (ipykernel)",
   "language": "python",
   "name": "python3"
  },
  "language_info": {
   "codemirror_mode": {
    "name": "ipython",
    "version": 3
   },
   "file_extension": ".py",
   "mimetype": "text/x-python",
   "name": "python",
   "nbconvert_exporter": "python",
   "pygments_lexer": "ipython3",
   "version": "3.9.7"
  }
 },
 "nbformat": 4,
 "nbformat_minor": 5
}

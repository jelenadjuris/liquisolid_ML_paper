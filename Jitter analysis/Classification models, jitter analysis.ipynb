{
 "cells": [
  {
   "cell_type": "code",
   "execution_count": 1,
   "id": "0fddafad",
   "metadata": {},
   "outputs": [
    {
     "name": "stderr",
     "output_type": "stream",
     "text": [
      "C:\\Users\\Jelena\\Anaconda3\\lib\\site-packages\\pyqtgraph\\colors\\palette.py:1: RuntimeWarning: PyQtGraph supports Qt version >= 5.15, but 5.9.7 detected.\n",
      "  from ..Qt import QtGui\n"
     ]
    }
   ],
   "source": [
    "import Orange\n",
    "import pickle\n",
    "import numpy as np\n",
    "import pandas as pd\n",
    "import matplotlib.pyplot as plt\n",
    "from Orange.ensembles import ada_boost\n",
    "from Orange.ensembles.ada_boost import SklAdaBoostClassificationLearner\n",
    "from Orange.evaluation import CA, Precision, AUC, Recall\n",
    "import sklearn.tree as skl_tree\n",
    "from sklearn import metrics\n",
    "from sklearn.metrics import accuracy_score\n",
    "from sklearn.model_selection import train_test_split\n",
    "from Orange.base import TreeModel as TreeModelInterface\n",
    "from Orange.classification import SklLearner, SklModel, Learner\n",
    "from Orange.tree import Node, DiscreteNode, MappedDiscreteNode, NumericNode, TreeModel\n",
    "from sklearn.preprocessing import OneHotEncoder\n",
    "from sklearn.ensemble import AdaBoostClassifier\n",
    "from sklearn.naive_bayes import GaussianNB\n",
    "from Orange.classification import NaiveBayesLearner\n",
    "from sklearn.linear_model import LogisticRegression\n",
    "from Orange.classification import SklLearner, SklModel, Learner\n",
    "from Orange.base import SklLearner\n",
    "from Orange.classification.base_classification import SklLearnerClassification"
   ]
  },
  {
   "cell_type": "code",
   "execution_count": 2,
   "id": "044adbba",
   "metadata": {},
   "outputs": [],
   "source": [
    "df = pd.read_csv('Dynamic compaction analysis.csv')\n",
    "X = df.iloc[:, :-1]\n",
    "y = df.iloc[:, -1]"
   ]
  },
  {
   "cell_type": "code",
   "execution_count": 3,
   "id": "98770f2c",
   "metadata": {},
   "outputs": [],
   "source": [
    "encoder = OneHotEncoder()\n",
    "y = encoder.fit_transform(y.values.reshape(-1, 1)).toarray()"
   ]
  },
  {
   "cell_type": "code",
   "execution_count": 4,
   "id": "d845a0b1",
   "metadata": {},
   "outputs": [],
   "source": [
    "n_samples, n_classes = y.shape"
   ]
  },
  {
   "cell_type": "code",
   "execution_count": 5,
   "id": "9fa64e7f",
   "metadata": {},
   "outputs": [],
   "source": [
    "def jitter1(X, scale=0.1):\n",
    "    return X + np.random.normal(0, scale, X.shape)\n",
    "\n",
    "def jitter1_test(classifier1, X, y, scales = np.linspace(0, 0.5, 30), N = 5):\n",
    "    out = []\n",
    "    for s in scales:\n",
    "        avg = 0.0\n",
    "        for r in range(N):\n",
    "            avg += metrics.accuracy_score(y.argmax(axis=1), classifier1.predict(jitter1(X, s)))\n",
    "        out.append(avg / N)\n",
    "    return out, scales"
   ]
  },
  {
   "cell_type": "code",
   "execution_count": 6,
   "id": "ae091bbe",
   "metadata": {},
   "outputs": [],
   "source": [
    "classifier1 = AdaBoostClassifier(random_state=0)\n",
    "classifier1.fit(X, y.argmax(axis=1))\n",
    "\n",
    "classifier1_scores, jitters1 = jitter1_test(classifier1, X, y)"
   ]
  },
  {
   "cell_type": "code",
   "execution_count": 7,
   "id": "c31e4c12",
   "metadata": {},
   "outputs": [],
   "source": [
    "def jitter2(X, scale=0.1):\n",
    "    return X + np.random.normal(0, scale, X.shape)\n",
    "\n",
    "def jitter2_test(classifier2, X, y, scales = np.linspace(0, 0.5, 30), N = 5):\n",
    "    out = []\n",
    "    for s in scales:\n",
    "        avg = 0.0\n",
    "        for r in range(N):\n",
    "            avg += metrics.accuracy_score(y.argmax(axis=1), classifier2.predict(jitter1(X, s)))\n",
    "        out.append(avg / N)\n",
    "    return out, scales"
   ]
  },
  {
   "cell_type": "code",
   "execution_count": 8,
   "id": "0bf8c2bf",
   "metadata": {},
   "outputs": [],
   "source": [
    "classifier2 = GaussianNB()\n",
    "classifier2.fit(X, y.argmax(axis=1))\n",
    "\n",
    "classifier2_scores, jitters2 = jitter2_test(classifier2, X, y)"
   ]
  },
  {
   "cell_type": "code",
   "execution_count": 9,
   "id": "fc14ff69",
   "metadata": {},
   "outputs": [],
   "source": [
    "def jitter3(X, scale=0.1):\n",
    "    return X + np.random.normal(0, scale, X.shape)\n",
    "\n",
    "def jitter3_test(classifier3, X, y, scales = np.linspace(0, 0.5, 30), N = 5):\n",
    "    out = []\n",
    "    for s in scales:\n",
    "        avg = 0.0\n",
    "        for r in range(N):\n",
    "            avg += metrics.accuracy_score(y.argmax(axis=1), classifier3.predict(jitter1(X, s)))\n",
    "        out.append(avg / N)\n",
    "    return out, scales"
   ]
  },
  {
   "cell_type": "code",
   "execution_count": 10,
   "id": "491d5b6d",
   "metadata": {},
   "outputs": [],
   "source": [
    "classifier3 = LogisticRegression(multi_class='ovr', C=0.06, max_iter=10000, solver='liblinear', n_jobs=1)\n",
    "classifier3.fit(X, y.argmax(axis=1))\n",
    "                    \n",
    "classifier3_scores, jitters3 = jitter3_test(classifier3, X, y)"
   ]
  },
  {
   "cell_type": "code",
   "execution_count": 11,
   "id": "f3d334d1",
   "metadata": {},
   "outputs": [
    {
     "data": {
      "image/png": "[encoded data removed]",
      "text/plain": [
       "<Figure size 432x288 with 1 Axes>"
      ]
     },
     "metadata": {
      "needs_background": "light"
     },
     "output_type": "display_data"
    }
   ],
   "source": [
    "plt.figure()\n",
    "lw = 2\n",
    "plt.plot(jitters1, classifier1_scores, color='darkorange',\n",
    "         lw=lw, label='AdaBoost')\n",
    "plt.plot(jitters2, classifier2_scores, color='blue',\n",
    "         lw=lw, label='Naive Bayes')\n",
    "plt.plot(jitters3, classifier3_scores, color='green',\n",
    "         lw=lw, label='Logistic Regression')\n",
    "plt.xlabel('Amount of Jitter')\n",
    "plt.ylabel('Accuracy')\n",
    "plt.title('Accuracy for Increasing Jitter')\n",
    "plt.legend(loc=\"lower left\")\n",
    "plt.ylim(0, 1)\n",
    "plt.show()"
   ]
  },
  {
   "cell_type": "code",
   "execution_count": null,
   "id": "5a3528e0",
   "metadata": {},
   "outputs": [],
   "source": []
  },
  {
   "cell_type": "code",
   "execution_count": null,
   "id": "4a18b190",
   "metadata": {},
   "outputs": [],
   "source": []
  },
  {
   "cell_type": "code",
   "execution_count": null,
   "id": "4c7e37a7",
   "metadata": {},
   "outputs": [],
   "source": []
  },
  {
   "cell_type": "code",
   "execution_count": null,
   "id": "acfe805e",
   "metadata": {},
   "outputs": [],
   "source": []
  }
 ],
 "metadata": {
  "kernelspec": {
   "display_name": "Python 3 (ipykernel)",
   "language": "python",
   "name": "python3"
  },
  "language_info": {
   "codemirror_mode": {
    "name": "ipython",
    "version": 3
   },
   "file_extension": ".py",
   "mimetype": "text/x-python",
   "name": "python",
   "nbconvert_exporter": "python",
   "pygments_lexer": "ipython3",
   "version": "3.9.7"
  }
 },
 "nbformat": 4,
 "nbformat_minor": 5
}

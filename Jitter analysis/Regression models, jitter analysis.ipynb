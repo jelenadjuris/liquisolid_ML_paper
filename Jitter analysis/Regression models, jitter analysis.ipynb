{
 "cells": [
  {
   "cell_type": "code",
   "execution_count": 127,
   "id": "0b83f4e6",
   "metadata": {},
   "outputs": [],
   "source": [
    "import Orange\n",
    "import pickle\n",
    "import numpy as np\n",
    "import pandas as pd\n",
    "from sklearn.metrics import r2_score\n",
    "from sklearn.linear_model import LinearRegression\n",
    "from sklearn.linear_model import Lasso\n",
    "import sklearn.ensemble as skl_ensemble\n",
    "from Orange.regression import SklTreeRegressionLearner\n",
    "from Orange.regression import SklLearner\n",
    "from Orange.regression import SVRLearner\n",
    "from Orange.regression import RandomForestRegressionLearner\n",
    "from Orange.regression import TreeLearner\n",
    "from Orange.regression import NNRegressionLearner\n",
    "from Orange.regression.base_regression import SklLearnerRegression, SklModelRegression\n",
    "from Orange.base import TreeModel as TreeModelInterface\n",
    "from Orange.tree import Node, DiscreteNode, MappedDiscreteNode, NumericNode, TreeModel\n",
    "from Orange.base import SklLearner\n",
    "from Orange.regression import SklLearner, SklModel, Learner\n",
    "from Orange.ensembles import ada_boost\n",
    "from Orange.ensembles.ada_boost import SklAdaBoostRegressionLearner\n",
    "import matplotlib.pyplot as plt"
   ]
  },
  {
   "cell_type": "code",
   "execution_count": 128,
   "id": "4f3ca116",
   "metadata": {},
   "outputs": [
    {
     "name": "stdout",
     "output_type": "stream",
     "text": [
      "[2.997243   3.137973   3.736729   3.656153   3.170659   2.48751153\n",
      " 2.92181821 2.93909041 3.12304829 2.9932683  2.95463446 2.90897342\n",
      " 2.32       2.06       2.34       2.34       2.16       1.65\n",
      " 3.20516661 2.76603075 3.09351736 3.2025586  3.01485578 3.8327696\n",
      " 3.38576513 3.04651285 3.09991668 3.09263968 3.16888    3.07336112\n",
      " 2.09       2.08       1.75       2.04       2.         2.\n",
      " 3.77295    3.87595    4.21564    3.60732    3.67347193 4.33738\n",
      " 3.65187578 3.27449377 2.9737744  2.84556703 3.24926718 2.83207235\n",
      " 2.39       2.48       2.31       2.47       2.38       2.22\n",
      " 0.58663457 0.62191565 0.84535345 1.08605822 1.08983518 0.46081253\n",
      " 0.54159205 0.68391899 0.91846726 1.14662791 0.45559345 0.58149427\n",
      " 0.65657969 0.86763572 0.45225715 0.59048467 0.76596175 0.92071594\n",
      " 0.35282036 0.54468955 0.80466973 0.88616878 0.99350216 0.53933431\n",
      " 0.63739662 0.77409761 0.99444717 1.0079455  0.58680992 0.88549234\n",
      " 1.10635725 1.26449783 1.35951616 1.91667958 0.66279739 0.87641895\n",
      " 1.2481403  1.43187343 1.52714648 1.84867037 0.5696103  0.73854866\n",
      " 0.97175639 1.13543775 1.19233188 1.42476633 0.51524792 0.62143214\n",
      " 1.0855782  1.26430179 1.33297677 1.97264754 0.57555255 0.9419358\n",
      " 1.05428909 1.14094156 1.50664793 1.75643519 0.64444973 0.81934872\n",
      " 1.04619792 1.24997631 1.32866805 1.41704421 0.62232362 0.73990114\n",
      " 0.71618038 0.86947422 0.94947755 0.97775334 0.54372779 0.75290215\n",
      " 1.0191149  1.23674137 1.38251297 1.85398833 0.64755005 0.96552479\n",
      " 1.34104884 1.43107554 1.52714481 1.83480164 0.60530434 0.77711544\n",
      " 0.92301397 1.17328553 1.10515249 1.33496862]\n"
     ]
    }
   ],
   "source": [
    "#Load the data\n",
    "data = Orange.data.Table.from_file(\"Dynamic compaction analysis_new.tab\")\n",
    "\n",
    "# Split the data into features (X) and target variable (y)\n",
    "X = data.X\n",
    "y = data.Y\n",
    "\n",
    "print(y)"
   ]
  },
  {
   "cell_type": "code",
   "execution_count": 129,
   "id": "38997fd9",
   "metadata": {},
   "outputs": [],
   "source": [
    "def jitter1(X, scale=0.1):\n",
    "    return X + np.random.normal(0, scale, X.shape)\n",
    "\n",
    "def jitter1_test(regressor1, X, y, scales = np.linspace(0, 0.5, 30), N = 5):\n",
    "    out = []\n",
    "    for s in scales:\n",
    "        avg = 0.0\n",
    "        for r in range(N):\n",
    "            y_pred = regressor1.predict(jitter1(X, s))\n",
    "            avg += r2_score(y, y_pred)\n",
    "        out.append(avg / N)\n",
    "    return out, scales"
   ]
  },
  {
   "cell_type": "code",
   "execution_count": 130,
   "id": "fb79128b",
   "metadata": {},
   "outputs": [
    {
     "name": "stderr",
     "output_type": "stream",
     "text": [
      "C:\\Users\\Jelena\\Anaconda3\\lib\\site-packages\\sklearn\\ensemble\\_forest.py:400: FutureWarning: Criterion 'mse' was deprecated in v1.0 and will be removed in version 1.2. Use `criterion='squared_error'` which is equivalent.\n",
      "  warn(\n",
      "C:\\Users\\Jelena\\Anaconda3\\lib\\site-packages\\sklearn\\ensemble\\_forest.py:416: FutureWarning: `max_features='auto'` has been deprecated in 1.1 and will be removed in 1.3. To keep the past behaviour, explicitly set `max_features=1.0` or remove this parameter as it is also the default value for RandomForestRegressors and ExtraTreesRegressors.\n",
      "  warn(\n"
     ]
    }
   ],
   "source": [
    "regressor1 = RandomForestRegressionLearner(criterion='mse', max_depth=3, max_features='auto',\n",
    "                      min_samples_split=5, n_estimators=10, n_jobs=1).fit(X,y)\n",
    "\n",
    "regressor1_scores, jitters1 = jitter1_test(regressor1, X, y)"
   ]
  },
  {
   "cell_type": "code",
   "execution_count": 131,
   "id": "d5122c41",
   "metadata": {},
   "outputs": [],
   "source": [
    "def jitter2(X, scale=0.1):\n",
    "    return X + np.random.normal(0, scale, X.shape)\n",
    "\n",
    "def jitter2_test(regressor2, X, y, scales = np.linspace(0, 0.5, 30), N = 5):\n",
    "    out = []\n",
    "    for s in scales:\n",
    "        avg = 0.0\n",
    "        for r in range(N):\n",
    "            y_pred = regressor2.predict(jitter2(X, s))\n",
    "            avg += r2_score(y, y_pred)\n",
    "        out.append(avg / N)\n",
    "    return out, scales"
   ]
  },
  {
   "cell_type": "code",
   "execution_count": 132,
   "id": "f138fd81",
   "metadata": {},
   "outputs": [],
   "source": [
    "regressor2 = Lasso(alpha=0.0001).fit(X,y)\n",
    "\n",
    "regressor2_scores, jitters2 = jitter2_test(regressor2, X, y)"
   ]
  },
  {
   "cell_type": "code",
   "execution_count": 133,
   "id": "9f206acd",
   "metadata": {},
   "outputs": [],
   "source": [
    "def jitter3(X, scale=0.1):\n",
    "    return X + np.random.normal(0, scale, X.shape)\n",
    "\n",
    "def jitter3_test(regressor3, X, y, scales = np.linspace(0, 0.5, 30), N = 5):\n",
    "    out = []\n",
    "    for s in scales:\n",
    "        avg = 0.0\n",
    "        for r in range(N):\n",
    "            y_pred = regressor3.predict(jitter3(X, s))\n",
    "            avg += r2_score(y, y_pred)\n",
    "        out.append(avg / N)\n",
    "    return out, scales"
   ]
  },
  {
   "cell_type": "code",
   "execution_count": 134,
   "id": "3c9ff065",
   "metadata": {
    "scrolled": true
   },
   "outputs": [],
   "source": [
    "regressor3 =  SklTreeRegressionLearner().fit(X,y)\n",
    "\n",
    "regressor3_scores, jitters3 = jitter3_test(regressor3, X, y)"
   ]
  },
  {
   "cell_type": "code",
   "execution_count": 135,
   "id": "dcf8a931",
   "metadata": {},
   "outputs": [],
   "source": [
    "def jitter4(X, scale=0.1):\n",
    "    return X + np.random.normal(0, scale, X.shape)\n",
    "\n",
    "def jitter4_test(regressor4, X, y, scales = np.linspace(0, 0.5, 30), N = 5):\n",
    "    out = []\n",
    "    for s in scales:\n",
    "        avg = 0.0\n",
    "        for r in range(N):\n",
    "            y_pred = regressor4.predict(jitter4(X, s))\n",
    "            avg += r2_score(y, y_pred)\n",
    "        out.append(avg / N)\n",
    "    return out, scales"
   ]
  },
  {
   "cell_type": "code",
   "execution_count": 136,
   "id": "7120e0b9",
   "metadata": {},
   "outputs": [
    {
     "name": "stderr",
     "output_type": "stream",
     "text": [
      "C:\\Users\\Jelena\\Anaconda3\\lib\\site-packages\\sklearn\\svm\\_base.py:301: ConvergenceWarning: Solver terminated early (max_iter=100).  Consider pre-processing your data with StandardScaler or MinMaxScaler.\n",
      "  warnings.warn(\n"
     ]
    }
   ],
   "source": [
    "regressor4 = SVRLearner(coef0=1.0, gamma='auto', max_iter=100).fit(X,y)\n",
    "\n",
    "regressor4_scores, jitters4 = jitter4_test(regressor4, X, y)"
   ]
  },
  {
   "cell_type": "code",
   "execution_count": 137,
   "id": "725a5faf",
   "metadata": {},
   "outputs": [],
   "source": [
    "def jitter5(X, scale=0.1):\n",
    "    return X + np.random.normal(0, scale, X.shape)\n",
    "\n",
    "def jitter5_test(regressor5, X, y, scales = np.linspace(0, 0.5, 30), N = 5):\n",
    "    out = []\n",
    "    for s in scales:\n",
    "        avg = 0.0\n",
    "        for r in range(N):\n",
    "            y_pred = regressor5.predict(jitter5(X, s))\n",
    "            avg += r2_score(y, y_pred)\n",
    "        out.append(avg / N)\n",
    "    return out, scales"
   ]
  },
  {
   "cell_type": "code",
   "execution_count": 139,
   "id": "dad04f78",
   "metadata": {
    "scrolled": true
   },
   "outputs": [],
   "source": [
    "regressor5 = SklAdaBoostRegressionLearner().fit(X,y)\n",
    "\n",
    "regressor5_scores, jitters5 = jitter5_test(regressor5, X, y)"
   ]
  },
  {
   "cell_type": "code",
   "execution_count": 140,
   "id": "d122015b",
   "metadata": {},
   "outputs": [],
   "source": [
    "def jitter6(X, scale=0.1):\n",
    "    return X + np.random.normal(0, scale, X.shape)\n",
    "\n",
    "def jitter6_test(regressor6, X, y, scales = np.linspace(0, 0.5, 30), N = 5):\n",
    "    out = []\n",
    "    for s in scales:\n",
    "        avg = 0.0\n",
    "        for r in range(N):\n",
    "            y_pred = regressor6.predict(jitter6(X, s))\n",
    "            avg += r2_score(y, y_pred)\n",
    "        out.append(avg / N)\n",
    "    return out, scales"
   ]
  },
  {
   "cell_type": "code",
   "execution_count": 143,
   "id": "415bbe6d",
   "metadata": {},
   "outputs": [
    {
     "name": "stderr",
     "output_type": "stream",
     "text": [
      "C:\\Users\\Jelena\\Anaconda3\\lib\\site-packages\\sklearn\\neural_network\\_multilayer_perceptron.py:702: ConvergenceWarning: Stochastic Optimizer: Maximum iterations (200) reached and the optimization hasn't converged yet.\n",
      "  warnings.warn(\n"
     ]
    }
   ],
   "source": [
    "regressor6 = NNRegressionLearner().fit(X,y)\n",
    "\n",
    "regressor6_scores, jitters6 = jitter6_test(regressor6, X, y)"
   ]
  },
  {
   "cell_type": "code",
   "execution_count": 148,
   "id": "f95c7fe0",
   "metadata": {},
   "outputs": [
    {
     "data": {
      "image/png": "[encoded data removed]",
      "text/plain": [
       "<Figure size 432x288 with 1 Axes>"
      ]
     },
     "metadata": {
      "needs_background": "light"
     },
     "output_type": "display_data"
    }
   ],
   "source": [
    "plt.figure()\n",
    "lw = 2\n",
    "plt.plot(jitters1, regressor1_scores, color='darkorange',\n",
    "         lw=lw, label='Random Forest')\n",
    "plt.plot(jitters2, regressor2_scores, color='blue',\n",
    "         lw=lw, label='Linear Regression')\n",
    "plt.plot(jitters3, regressor3_scores, color='green',\n",
    "         lw=lw, label='Decision Tree')\n",
    "plt.plot(jitters4, regressor4_scores, color='red',\n",
    "         lw=lw, label='SVM')\n",
    "plt.plot(jitters5, regressor5_scores, color='magenta',\n",
    "         lw=lw, label='AdaBoost')\n",
    "plt.plot(jitters6, regressor6_scores, color='brown',\n",
    "         lw=lw, label='Neural Network')\n",
    "plt.xlabel('Amount of Jitter')\n",
    "plt.ylabel('R^2 Score')\n",
    "plt.title('R^2 for Increasing Jitter')\n",
    "plt.legend(loc=\"lower left\")\n",
    "plt.ylim(0, 1)\n",
    "plt.show()"
   ]
  },
  {
   "cell_type": "code",
   "execution_count": 147,
   "id": "ee25ac52",
   "metadata": {},
   "outputs": [
    {
     "data": {
      "text/plain": [
       "<Figure size 432x288 with 0 Axes>"
      ]
     },
     "metadata": {},
     "output_type": "display_data"
    }
   ],
   "source": [
    "plt.savefig(\"jitter figure.pdf\")"
   ]
  },
  {
   "cell_type": "code",
   "execution_count": null,
   "id": "509959c0",
   "metadata": {},
   "outputs": [],
   "source": []
  }
 ],
 "metadata": {
  "kernelspec": {
   "display_name": "Python 3 (ipykernel)",
   "language": "python",
   "name": "python3"
  },
  "language_info": {
   "codemirror_mode": {
    "name": "ipython",
    "version": 3
   },
   "file_extension": ".py",
   "mimetype": "text/x-python",
   "name": "python",
   "nbconvert_exporter": "python",
   "pygments_lexer": "ipython3",
   "version": "3.9.7"
  }
 },
 "nbformat": 4,
 "nbformat_minor": 5
}
